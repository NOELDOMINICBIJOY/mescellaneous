{
 "cells": [
  {
   "cell_type": "code",
   "execution_count": 2,
   "id": "5e3e84d9",
   "metadata": {},
   "outputs": [],
   "source": [
    "import numpy as np\n",
    "import matplotlib.pyplot as plt\n",
    "import scienceplots\n",
    "import sympy as smp\n",
    "\n",
    "%matplotlib inline\n",
    "\n",
    "plt.style.use(['science', 'notebook', 'dark_background'])\n",
    "plt.style.use(['science', 'notebook', 'dark_background', 'grid'])\n",
    "plt.style.use(['science', 'notebook', 'dark_background'])"
   ]
  },
  {
   "cell_type": "code",
   "execution_count": 31,
   "id": "35f42629",
   "metadata": {},
   "outputs": [],
   "source": [
    "s, ds = smp.symbols('s ds')"
   ]
  },
  {
   "cell_type": "code",
   "execution_count": 32,
   "id": "b82583d6",
   "metadata": {},
   "outputs": [
    {
     "data": {
      "text/latex": [
       "$\\displaystyle s$"
      ],
      "text/plain": [
       "s"
      ]
     },
     "execution_count": 32,
     "metadata": {},
     "output_type": "execute_result"
    }
   ],
   "source": [
    "s"
   ]
  },
  {
   "cell_type": "code",
   "execution_count": 21,
   "id": "4593bd6b",
   "metadata": {},
   "outputs": [
    {
     "data": {
      "text/latex": [
       "$\\displaystyle \\left[\\begin{matrix}\\cos{\\left(s \\right)}\\\\\\sin{\\left(s \\right)}\\\\s\\end{matrix}\\right]$"
      ],
      "text/plain": [
       "Matrix([\n",
       "[cos(s)],\n",
       "[sin(s)],\n",
       "[     s]])"
      ]
     },
     "execution_count": 21,
     "metadata": {},
     "output_type": "execute_result"
    }
   ],
   "source": [
    "r_dl = smp.Matrix([smp.cos(s), smp.sin(s), s])\n",
    "r_dl"
   ]
  },
  {
   "cell_type": "code",
   "execution_count": 28,
   "id": "78af0e6b",
   "metadata": {},
   "outputs": [
    {
     "data": {
      "text/latex": [
       "$\\displaystyle \\left[\\begin{matrix}- \\sin{\\left(s \\right)}\\\\\\cos{\\left(s \\right)}\\\\1\\end{matrix}\\right]$"
      ],
      "text/plain": [
       "Matrix([\n",
       "[-sin(s)],\n",
       "[ cos(s)],\n",
       "[      1]])"
      ]
     },
     "execution_count": 28,
     "metadata": {},
     "output_type": "execute_result"
    }
   ],
   "source": [
    "r_dl_prime = smp.diff(r_dl)\n",
    "r_dl_prime"
   ]
  },
  {
   "cell_type": "code",
   "execution_count": 29,
   "id": "7e8f8853",
   "metadata": {},
   "outputs": [
    {
     "data": {
      "text/latex": [
       "$\\displaystyle \\left[\\begin{matrix}0\\\\0\\\\0\\end{matrix}\\right]$"
      ],
      "text/plain": [
       "Matrix([\n",
       "[0],\n",
       "[0],\n",
       "[0]])"
      ]
     },
     "execution_count": 29,
     "metadata": {},
     "output_type": "execute_result"
    }
   ],
   "source": [
    "r_p = smp.Matrix([0, 0, 0])\n",
    "r_p"
   ]
  },
  {
   "cell_type": "code",
   "execution_count": 30,
   "id": "50aff138",
   "metadata": {},
   "outputs": [
    {
     "data": {
      "text/latex": [
       "$\\displaystyle \\left[\\begin{matrix}- \\cos{\\left(s \\right)}\\\\- \\sin{\\left(s \\right)}\\\\- s\\end{matrix}\\right]$"
      ],
      "text/plain": [
       "Matrix([\n",
       "[-cos(s)],\n",
       "[-sin(s)],\n",
       "[     -s]])"
      ]
     },
     "execution_count": 30,
     "metadata": {},
     "output_type": "execute_result"
    }
   ],
   "source": [
    "r_p_dl = r_p - r_dl\n",
    "r_p_dl"
   ]
  },
  {
   "cell_type": "code",
   "execution_count": null,
   "id": "721a4c53",
   "metadata": {},
   "outputs": [],
   "source": [
    "db = "
   ]
  }
 ],
 "metadata": {
  "kernelspec": {
   "display_name": "Python 3 (ipykernel)",
   "language": "python",
   "name": "python3"
  },
  "language_info": {
   "codemirror_mode": {
    "name": "ipython",
    "version": 3
   },
   "file_extension": ".py",
   "mimetype": "text/x-python",
   "name": "python",
   "nbconvert_exporter": "python",
   "pygments_lexer": "ipython3",
   "version": "3.9.12"
  }
 },
 "nbformat": 4,
 "nbformat_minor": 5
}
