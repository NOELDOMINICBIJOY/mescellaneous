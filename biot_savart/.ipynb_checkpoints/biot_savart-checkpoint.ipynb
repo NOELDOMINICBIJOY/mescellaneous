{
 "cells": [
  {
   "cell_type": "code",
   "execution_count": 1,
   "id": "fbba9341-e740-45a1-8dfa-e77ac470c900",
   "metadata": {},
   "outputs": [],
   "source": [
    "import numpy as np\n",
    "import matplotlib.pyplot as plt\n",
    "import scienceplots\n",
    "\n",
    "plt.style.use(['science', 'notebook', 'dark_background'])\n",
    "plt.style.use(['science', 'notebook', 'dark_background', 'grid'])\n",
    "plt.style.use(['science', 'notebook', 'dark_background'])"
   ]
  },
  {
   "cell_type": "code",
   "execution_count": null,
   "id": "8570570e-c8d2-4b9a-81a9-b1455f742fac",
   "metadata": {},
   "outputs": [],
   "source": []
  }
 ],
 "metadata": {
  "kernelspec": {
   "display_name": "Python 3 (ipykernel)",
   "language": "python",
   "name": "python3"
  },
  "language_info": {
   "codemirror_mode": {
    "name": "ipython",
    "version": 3
   },
   "file_extension": ".py",
   "mimetype": "text/x-python",
   "name": "python",
   "nbconvert_exporter": "python",
   "pygments_lexer": "ipython3",
   "version": "3.9.12"
  }
 },
 "nbformat": 4,
 "nbformat_minor": 5
}
