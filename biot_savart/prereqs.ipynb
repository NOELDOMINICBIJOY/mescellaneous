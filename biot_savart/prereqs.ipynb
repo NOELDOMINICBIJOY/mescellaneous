{
 "cells": [
  {
   "cell_type": "code",
   "execution_count": 30,
   "id": "5e3e84d9",
   "metadata": {},
   "outputs": [],
   "source": [
    "import numpy as np\n",
    "import matplotlib.pyplot as plt\n",
    "import scienceplots\n",
    "import sympy as smp\n",
    "from scipy.integrate import quad_vec\n",
    "\n",
    "%matplotlib inline\n",
    "\n",
    "plt.style.use(['science', 'notebook', 'dark_background'])\n",
    "plt.style.use(['science', 'notebook', 'dark_background', 'grid'])\n",
    "plt.style.use(['science', 'notebook', 'dark_background'])"
   ]
  },
  {
   "cell_type": "code",
   "execution_count": 31,
   "id": "45048577",
   "metadata": {},
   "outputs": [
    {
     "data": {
      "text/latex": [
       "$\\displaystyle ds$"
      ],
      "text/plain": [
       "ds"
      ]
     },
     "execution_count": 31,
     "metadata": {},
     "output_type": "execute_result"
    }
   ],
   "source": [
    "s, ds = smp.symbols('s ds')\n",
    "ds"
   ]
  },
  {
   "cell_type": "code",
   "execution_count": 32,
   "id": "4593bd6b",
   "metadata": {},
   "outputs": [
    {
     "data": {
      "text/latex": [
       "$\\displaystyle \\left[\\begin{matrix}\\cos{\\left(s \\right)}\\\\\\sin{\\left(s \\right)}\\\\0\\end{matrix}\\right]$"
      ],
      "text/plain": [
       "Matrix([\n",
       "[cos(s)],\n",
       "[sin(s)],\n",
       "[     0]])"
      ]
     },
     "execution_count": 32,
     "metadata": {},
     "output_type": "execute_result"
    }
   ],
   "source": [
    "r_dl = smp.Matrix([smp.cos(s), smp.sin(s), 0])\n",
    "r_dl"
   ]
  },
  {
   "cell_type": "code",
   "execution_count": 33,
   "id": "ee6140eb",
   "metadata": {},
   "outputs": [
    {
     "data": {
      "text/latex": [
       "$\\displaystyle \\left[\\begin{matrix}- \\sin{\\left(s \\right)}\\\\\\cos{\\left(s \\right)}\\\\0\\end{matrix}\\right]$"
      ],
      "text/plain": [
       "Matrix([\n",
       "[-sin(s)],\n",
       "[ cos(s)],\n",
       "[      0]])"
      ]
     },
     "execution_count": 33,
     "metadata": {},
     "output_type": "execute_result"
    }
   ],
   "source": [
    "r_dl_prime = smp.diff(r_dl)\n",
    "r_dl_prime"
   ]
  },
  {
   "cell_type": "code",
   "execution_count": 34,
   "id": "dc3998bc",
   "metadata": {},
   "outputs": [
    {
     "data": {
      "text/latex": [
       "$\\displaystyle \\left[\\begin{matrix}0\\\\0\\\\0\\end{matrix}\\right]$"
      ],
      "text/plain": [
       "Matrix([\n",
       "[0],\n",
       "[0],\n",
       "[0]])"
      ]
     },
     "execution_count": 34,
     "metadata": {},
     "output_type": "execute_result"
    }
   ],
   "source": [
    "r_p = smp.Matrix([0, 0, 0])\n",
    "r_p"
   ]
  },
  {
   "cell_type": "code",
   "execution_count": 35,
   "id": "a016dbf5",
   "metadata": {},
   "outputs": [
    {
     "data": {
      "text/latex": [
       "$\\displaystyle \\left[\\begin{matrix}- \\cos{\\left(s \\right)}\\\\- \\sin{\\left(s \\right)}\\\\0\\end{matrix}\\right]$"
      ],
      "text/plain": [
       "Matrix([\n",
       "[-cos(s)],\n",
       "[-sin(s)],\n",
       "[      0]])"
      ]
     },
     "execution_count": 35,
     "metadata": {},
     "output_type": "execute_result"
    }
   ],
   "source": [
    "r_p_dl = r_p - r_dl\n",
    "r_p_dl"
   ]
  },
  {
   "cell_type": "code",
   "execution_count": 36,
   "id": "4516c3c0",
   "metadata": {},
   "outputs": [
    {
     "data": {
      "text/latex": [
       "$\\displaystyle \\left[\\begin{matrix}0\\\\0\\\\\\frac{\\sin^{2}{\\left(s \\right)} + \\cos^{2}{\\left(s \\right)}}{\\left(\\left|{\\sin{\\left(s \\right)}}\\right|^{2} + \\left|{\\cos{\\left(s \\right)}}\\right|^{2}\\right)^{\\frac{3}{2}}}\\end{matrix}\\right]$"
      ],
      "text/plain": [
       "Matrix([\n",
       "[                                                               0],\n",
       "[                                                               0],\n",
       "[(sin(s)**2 + cos(s)**2)/(Abs(sin(s))**2 + Abs(cos(s))**2)**(3/2)]])"
      ]
     },
     "execution_count": 36,
     "metadata": {},
     "output_type": "execute_result"
    }
   ],
   "source": [
    "db = (r_dl_prime.cross(r_p_dl)/(r_p_dl.norm())**3)\n",
    "db"
   ]
  },
  {
   "cell_type": "code",
   "execution_count": 37,
   "id": "95f55313",
   "metadata": {},
   "outputs": [
    {
     "data": {
      "text/plain": [
       "<function _lambdifygenerated(s)>"
      ]
     },
     "execution_count": 37,
     "metadata": {},
     "output_type": "execute_result"
    }
   ],
   "source": [
    "db_f = smp.lambdify([s], db)\n",
    "db_f"
   ]
  },
  {
   "cell_type": "code",
   "execution_count": 40,
   "id": "0797b953",
   "metadata": {},
   "outputs": [
    {
     "data": {
      "text/plain": [
       "array([[0.        ],\n",
       "       [0.        ],\n",
       "       [6.28318531]])"
      ]
     },
     "execution_count": 40,
     "metadata": {},
     "output_type": "execute_result"
    }
   ],
   "source": [
    "quad_vec(db_f, 0, 2*np.pi)[0]"
   ]
  },
  {
   "cell_type": "code",
   "execution_count": null,
   "id": "b1491afa",
   "metadata": {},
   "outputs": [],
   "source": []
  }
 ],
 "metadata": {
  "kernelspec": {
   "display_name": "Python 3 (ipykernel)",
   "language": "python",
   "name": "python3"
  },
  "language_info": {
   "codemirror_mode": {
    "name": "ipython",
    "version": 3
   },
   "file_extension": ".py",
   "mimetype": "text/x-python",
   "name": "python",
   "nbconvert_exporter": "python",
   "pygments_lexer": "ipython3",
   "version": "3.9.12"
  }
 },
 "nbformat": 4,
 "nbformat_minor": 5
}
