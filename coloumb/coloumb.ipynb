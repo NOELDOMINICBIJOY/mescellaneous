{
 "cells": [
  {
   "cell_type": "code",
   "execution_count": 1,
   "id": "de476172-1094-40e0-8279-7c7c61d2c4dd",
   "metadata": {},
   "outputs": [],
   "source": [
    "# importing all necessary modules\n",
    "\n",
    "import numpy as np\n",
    "import matplotlib.pyplot as plt \n",
    "import scienceplots\n",
    "import sympy as smp\n",
    "%matplotlib inline \n",
    "\n",
    "plt.style.use(['science', 'notebook', 'grid', 'dark_background'])"
   ]
  },
  {
   "cell_type": "code",
   "execution_count": 2,
   "id": "0ebb670b-4caa-4714-b4b3-aa8e6580a3b5",
   "metadata": {},
   "outputs": [],
   "source": [
    "# setting the values and positions of the charges\n",
    "# If you wish to change them you can do it here\n",
    "\n",
    "charges = [1, -1]\n",
    "charge_locs = [(0, 1, 0), (0, -1, 0)]"
   ]
  },
  {
   "cell_type": "code",
   "execution_count": 3,
   "id": "8fccd306-7a9f-4bf4-b326-42c6d9f079f1",
   "metadata": {},
   "outputs": [
    {
     "data": {
      "text/plain": [
       "431"
      ]
     },
     "execution_count": 3,
     "metadata": {},
     "output_type": "execute_result"
    }
   ],
   "source": [
    "# creating a function that returns all possible combinations of a range of numbers with a specific step\n",
    "\n",
    "def create_rs(start, end, steps):\n",
    "    z = y = x = start\n",
    "    q = []\n",
    "    \n",
    "    while x <= end:\n",
    "        while y <= end:\n",
    "            while z <= end:\n",
    "                q.append([x, y, z])\n",
    "                z += steps\n",
    "\n",
    "            z = 0\n",
    "            y += steps\n",
    "        y = 0\n",
    "        x += steps\n",
    "         \n",
    "        \n",
    "    return np.array(q)\n",
    "\n",
    "r_ps = create_rs(-5, 5, 1)\n",
    "len(r_ps)"
   ]
  },
  {
   "cell_type": "code",
   "execution_count": 4,
   "id": "859f086c-4121-4e34-8f5e-f1dcbe6d40aa",
   "metadata": {},
   "outputs": [
    {
     "data": {
      "text/latex": [
       "$\\displaystyle \\left[\\begin{matrix}0\\\\0\\\\0\\end{matrix}\\right]$"
      ],
      "text/plain": [
       "Matrix([\n",
       "[0],\n",
       "[0],\n",
       "[0]])"
      ]
     },
     "execution_count": 4,
     "metadata": {},
     "output_type": "execute_result"
    }
   ],
   "source": [
    "r_p = smp.Matrix(r_ps[215])\n",
    "r_p "
   ]
  },
  {
   "cell_type": "code",
   "execution_count": 5,
   "id": "54885048-9f7e-46be-9ee4-37a314b284f9",
   "metadata": {},
   "outputs": [
    {
     "data": {
      "text/latex": [
       "$\\displaystyle \\left[\\begin{matrix}0\\\\-2\\\\0\\end{matrix}\\right]$"
      ],
      "text/plain": [
       "Matrix([\n",
       "[ 0],\n",
       "[-2],\n",
       "[ 0]])"
      ]
     },
     "execution_count": 5,
     "metadata": {},
     "output_type": "execute_result"
    }
   ],
   "source": [
    "# computing the electric fields at a particular point\n",
    "\n",
    "E_i_p = []\n",
    "\n",
    "# defining a function that sums up a list of sympy matrices\n",
    "\n",
    "def sum_smp_matrix(iter):\n",
    "    sum = smp.Matrix([0, 0, 0])\n",
    "    for i in iter:\n",
    "        sum += i\n",
    "    return sum\n",
    "\n",
    "for i, e in enumerate(charge_locs):\n",
    "    r_i = smp.Matrix(e)\n",
    "    r_i_p = r_p - r_i\n",
    "    E_i_p.append(charges[i] * r_i_p/(r_i_p.norm() ** 3))\n",
    "    \n",
    "E_net = sum_smp_matrix(E_i_p)\n",
    "E_net"
   ]
  },
  {
   "cell_type": "code",
   "execution_count": 6,
   "id": "d60b5fe4-8d63-4500-b2f5-7d35c8e0bbf5",
   "metadata": {},
   "outputs": [],
   "source": [
    "# now doing it for all points\n",
    "\n",
    "E_net = []\n",
    "index = 0\n",
    "while index < len(r_ps):\n",
    "    r_p = smp.Matrix(r_ps[index])\n",
    "    E_i_p = []\n",
    "\n",
    "    for i, e in enumerate(charge_locs):\n",
    "        r_i = smp.Matrix(e)\n",
    "        r_i_p = r_p - r_i\n",
    "        E_i_p.append(charges[i] * r_i_p/(r_i_p.norm() ** 3))\n",
    "    \n",
    "    E_net.append(sum_smp_matrix(E_i_p))    \n",
    "    index += 1\n",
    "    \n",
    "E_net = smp.lambdify([smp.symbols('_')], E_net)\n",
    "E_net = E_net(0)"
   ]
  },
  {
   "cell_type": "code",
   "execution_count": 7,
   "id": "80a57d4e-27a0-4a90-9fd9-f45e4f8ab57f",
   "metadata": {},
   "outputs": [
    {
     "data": {
      "text/plain": [
       "[0, -2, 0]"
      ]
     },
     "execution_count": 7,
     "metadata": {},
     "output_type": "execute_result"
    }
   ],
   "source": [
    "# changing the chape of E_net\n",
    "\n",
    "idx = 0\n",
    "E_net_mod = []\n",
    "\n",
    "while idx < len(E_net):\n",
    "    E_i = []\n",
    "\n",
    "    for i in E_net[idx]:\n",
    "        E_i.append(i[0])\n",
    "        \n",
    "    E_net_mod.append(E_i)\n",
    "    \n",
    "    idx += 1\n",
    "\n",
    "E_net_mod[215]"
   ]
  },
  {
   "cell_type": "code",
   "execution_count": null,
   "id": "0686730d-28ff-4a4c-89c5-53f20e83e458",
   "metadata": {},
   "outputs": [],
   "source": []
  }
 ],
 "metadata": {
  "kernelspec": {
   "display_name": "Python 3 (ipykernel)",
   "language": "python",
   "name": "python3"
  },
  "language_info": {
   "codemirror_mode": {
    "name": "ipython",
    "version": 3
   },
   "file_extension": ".py",
   "mimetype": "text/x-python",
   "name": "python",
   "nbconvert_exporter": "python",
   "pygments_lexer": "ipython3",
   "version": "3.9.12"
  }
 },
 "nbformat": 4,
 "nbformat_minor": 5
}
