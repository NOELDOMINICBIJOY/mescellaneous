{
 "cells": [
  {
   "cell_type": "code",
   "execution_count": 1,
   "id": "26ffced8",
   "metadata": {},
   "outputs": [],
   "source": [
    "import numpy as np\n",
    "import matplotlib.pyplot as plt\n"
   ]
  },
  {
   "cell_type": "code",
   "execution_count": 2,
   "id": "0a146283",
   "metadata": {},
   "outputs": [],
   "source": [
    "L = 1\n",
    "x_1 = np.arange(0, (1/3)*L,0.000001)\n",
    "y_1 = np.zeros(x_1.shape)\n",
    "\n",
    "x_2 = np.arange((1/3)*L, (2/3)*L,0.000001) \n",
    "y_2 = np.ones(x_2.shape)\n",
    "\n",
    "x_3 = np.arange((2/3)*L, L,0.000001)\n",
    "y_3 = np.zeros(x_3.shape)\n",
    "\n",
    "x = np.concatenate((x_1, x_2, x_3))\n",
    "func = np.concatenate((y_1, y_2, y_3))"
   ]
  },
  {
   "cell_type": "code",
   "execution_count": 3,
   "id": "5e139c6f",
   "metadata": {},
   "outputs": [
    {
     "data": {
      "image/png": "[encoded data removed]",
      "text/plain": [
       "<Figure size 432x288 with 1 Axes>"
      ]
     },
     "metadata": {
      "needs_background": "light"
     },
     "output_type": "display_data"
    }
   ],
   "source": [
    "plt.plot(x,func, color='green')\n",
    "plt.xlabel= 'x'\n",
    "plt.ylabel = 'y'\n",
    "plt.grid()"
   ]
  },
  {
   "cell_type": "code",
   "execution_count": 4,
   "id": "17133967",
   "metadata": {},
   "outputs": [
    {
     "data": {
      "text/plain": [
       "0.33333"
      ]
     },
     "execution_count": 4,
     "metadata": {},
     "output_type": "execute_result"
    }
   ],
   "source": [
    "a_0 = (1/L)*(np.cumsum(func)* (x[1] - x[0]))[-1]\n",
    "a_0 = np.round(a_0, 5)\n",
    "a_0"
   ]
  },
  {
   "cell_type": "code",
   "execution_count": 5,
   "id": "e0e433a9",
   "metadata": {},
   "outputs": [
    {
     "data": {
      "text/plain": [
       "1.6667142713207317e-07"
      ]
     },
     "execution_count": 5,
     "metadata": {},
     "output_type": "execute_result"
    }
   ],
   "source": [
    "def A_m(m):\n",
    "    return (1/L)*((np.cumsum(func*np.cos((m*np.pi*x)/L)) * (x[1] - x[0]))[-1])\n",
    "\n",
    "A_m(1)"
   ]
  },
  {
   "cell_type": "code",
   "execution_count": 6,
   "id": "60ca8e9b",
   "metadata": {},
   "outputs": [
    {
     "data": {
      "text/plain": [
       "0.06366139989548152"
      ]
     },
     "execution_count": 6,
     "metadata": {},
     "output_type": "execute_result"
    }
   ],
   "source": [
    "def B_m(m):\n",
    "    return (1/L)*((np.cumsum(func*np.sin((m*np.pi*x)/L)) * (x[1] - x[0]))[-1])\n",
    "\n",
    "B_m(5)"
   ]
  },
  {
   "cell_type": "code",
   "execution_count": 7,
   "id": "ed3b96c8",
   "metadata": {},
   "outputs": [
    {
     "data": {
      "text/plain": [
       "<matplotlib.legend.Legend at 0x7f73453f22b0>"
      ]
     },
     "execution_count": 7,
     "metadata": {},
     "output_type": "execute_result"
    },
    {
     "data": {
      "image/png": "[encoded data removed]",
      "text/plain": [
       "<Figure size 432x288 with 1 Axes>"
      ]
     },
     "metadata": {
      "needs_background": "light"
     },
     "output_type": "display_data"
    }
   ],
   "source": [
    "n = 30\n",
    "func_cos = 0\n",
    "for i in range(1, n+1):\n",
    "    func_cos += A_m(i)*np.cos((i*x*np.pi)/L)\n",
    "\n",
    "func_sin = 0\n",
    "for i in range(1, n+1):\n",
    "    func_sin += B_m(i)*np.sin((i*x*np.pi)/L)\n",
    "\n",
    "func_fourier =  func_cos + func_sin\n",
    "func_fourier += a_0/2\n",
    "\n",
    "plt.plot(x ,func_fourier, color='green', label = 'fourier approximation')\n",
    "plt.plot(x,func, color='red', label='orginal function')\n",
    "plt.xlabel = 'x'\n",
    "plt.ylabel = 'y'\n",
    "plt.grid()\n",
    "plt.legend(loc='upper left')"
   ]
  },
  {
   "cell_type": "code",
   "execution_count": 16,
   "id": "635dc02b",
   "metadata": {},
   "outputs": [
    {
     "data": {
      "text/plain": [
       "array([0.00610629, 0.00610629, 0.00610629, ..., 0.00610629, 0.00610629,\n",
       "       0.00610629])"
      ]
     },
     "execution_count": 16,
     "metadata": {},
     "output_type": "execute_result"
    }
   ],
   "source": [
    "func_fourier"
   ]
  },
  {
   "cell_type": "code",
   "execution_count": null,
   "id": "b9c2809e-dd26-49f9-bc21-0613a02b4379",
   "metadata": {},
   "outputs": [],
   "source": []
  }
 ],
 "metadata": {
  "kernelspec": {
   "display_name": "Python 3 (ipykernel)",
   "language": "python",
   "name": "python3"
  },
  "language_info": {
   "codemirror_mode": {
    "name": "ipython",
    "version": 3
   },
   "file_extension": ".py",
   "mimetype": "text/x-python",
   "name": "python",
   "nbconvert_exporter": "python",
   "pygments_lexer": "ipython3",
   "version": "3.9.12"
  }
 },
 "nbformat": 4,
 "nbformat_minor": 5
}
